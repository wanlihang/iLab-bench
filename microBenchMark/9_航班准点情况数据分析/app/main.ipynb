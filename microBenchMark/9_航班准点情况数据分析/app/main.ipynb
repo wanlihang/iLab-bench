{
 "cells": [
  {
   "cell_type": "markdown",
   "metadata": {},
   "source": [
    "# 美国航班的准点数据分析"
   ]
  },
  {
   "cell_type": "code",
   "execution_count": 6,
   "metadata": {},
   "outputs": [],
   "source": [
    "import numpy as np\n",
    "import pandas as pd\n",
    "from pandas import Series, DataFrame"
   ]
  },
  {
   "cell_type": "code",
   "execution_count": 7,
   "metadata": {},
   "outputs": [],
   "source": [
    "# 航班数据的链接网址\n",
    "link = 'https://projects.fivethirtyeight.com/flights/'"
   ]
  },
  {
   "cell_type": "code",
   "execution_count": 8,
   "metadata": {},
   "outputs": [
    {
     "name": "stderr",
     "output_type": "stream",
     "text": [
      "'ls' 不是内部或外部命令，也不是可运行的程序\n",
      "或批处理文件。\n"
     ]
    }
   ],
   "source": [
    "# 查看本地dada目录中的数据文件（项目中的实验数据都在data目录中）\n",
    "# win中\n",
    "# !dir \"../data/\"\n",
    "# linux中\n",
    "!ls \"../data\""
   ]
  },
  {
   "cell_type": "code",
   "execution_count": 9,
   "metadata": {},
   "outputs": [],
   "source": [
    "# 从本地读取航班数据\n",
    "flights_df = pd.read_csv(\"./data/usa_flights.csv\")"
   ]
  },
  {
   "cell_type": "code",
   "execution_count": 10,
   "metadata": {},
   "outputs": [
    {
     "data": {
      "text/plain": "       flight_date unique_carrier  flight_num origin dest  arr_delay  \\\n0  02/01/2015 0:00             AA           1    JFK  LAX      -19.0   \n1  03/01/2015 0:00             AA           1    JFK  LAX      -39.0   \n2  04/01/2015 0:00             AA           1    JFK  LAX      -12.0   \n3  05/01/2015 0:00             AA           1    JFK  LAX       -8.0   \n4  06/01/2015 0:00             AA           1    JFK  LAX       25.0   \n\n   cancelled  distance  carrier_delay  weather_delay  late_aircraft_delay  \\\n0          0      2475            NaN            NaN                  NaN   \n1          0      2475            NaN            NaN                  NaN   \n2          0      2475            NaN            NaN                  NaN   \n3          0      2475            NaN            NaN                  NaN   \n4          0      2475            0.0            0.0                  0.0   \n\n   nas_delay  security_delay  actual_elapsed_time  \n0        NaN             NaN                381.0  \n1        NaN             NaN                358.0  \n2        NaN             NaN                385.0  \n3        NaN             NaN                389.0  \n4       25.0             0.0                424.0  ",
      "text/html": "<div>\n<style scoped>\n    .dataframe tbody tr th:only-of-type {\n        vertical-align: middle;\n    }\n\n    .dataframe tbody tr th {\n        vertical-align: top;\n    }\n\n    .dataframe thead th {\n        text-align: right;\n    }\n</style>\n<table border=\"1\" class=\"dataframe\">\n  <thead>\n    <tr style=\"text-align: right;\">\n      <th></th>\n      <th>flight_date</th>\n      <th>unique_carrier</th>\n      <th>flight_num</th>\n      <th>origin</th>\n      <th>dest</th>\n      <th>arr_delay</th>\n      <th>cancelled</th>\n      <th>distance</th>\n      <th>carrier_delay</th>\n      <th>weather_delay</th>\n      <th>late_aircraft_delay</th>\n      <th>nas_delay</th>\n      <th>security_delay</th>\n      <th>actual_elapsed_time</th>\n    </tr>\n  </thead>\n  <tbody>\n    <tr>\n      <th>0</th>\n      <td>02/01/2015 0:00</td>\n      <td>AA</td>\n      <td>1</td>\n      <td>JFK</td>\n      <td>LAX</td>\n      <td>-19.0</td>\n      <td>0</td>\n      <td>2475</td>\n      <td>NaN</td>\n      <td>NaN</td>\n      <td>NaN</td>\n      <td>NaN</td>\n      <td>NaN</td>\n      <td>381.0</td>\n    </tr>\n    <tr>\n      <th>1</th>\n      <td>03/01/2015 0:00</td>\n      <td>AA</td>\n      <td>1</td>\n      <td>JFK</td>\n      <td>LAX</td>\n      <td>-39.0</td>\n      <td>0</td>\n      <td>2475</td>\n      <td>NaN</td>\n      <td>NaN</td>\n      <td>NaN</td>\n      <td>NaN</td>\n      <td>NaN</td>\n      <td>358.0</td>\n    </tr>\n    <tr>\n      <th>2</th>\n      <td>04/01/2015 0:00</td>\n      <td>AA</td>\n      <td>1</td>\n      <td>JFK</td>\n      <td>LAX</td>\n      <td>-12.0</td>\n      <td>0</td>\n      <td>2475</td>\n      <td>NaN</td>\n      <td>NaN</td>\n      <td>NaN</td>\n      <td>NaN</td>\n      <td>NaN</td>\n      <td>385.0</td>\n    </tr>\n    <tr>\n      <th>3</th>\n      <td>05/01/2015 0:00</td>\n      <td>AA</td>\n      <td>1</td>\n      <td>JFK</td>\n      <td>LAX</td>\n      <td>-8.0</td>\n      <td>0</td>\n      <td>2475</td>\n      <td>NaN</td>\n      <td>NaN</td>\n      <td>NaN</td>\n      <td>NaN</td>\n      <td>NaN</td>\n      <td>389.0</td>\n    </tr>\n    <tr>\n      <th>4</th>\n      <td>06/01/2015 0:00</td>\n      <td>AA</td>\n      <td>1</td>\n      <td>JFK</td>\n      <td>LAX</td>\n      <td>25.0</td>\n      <td>0</td>\n      <td>2475</td>\n      <td>0.0</td>\n      <td>0.0</td>\n      <td>0.0</td>\n      <td>25.0</td>\n      <td>0.0</td>\n      <td>424.0</td>\n    </tr>\n  </tbody>\n</table>\n</div>"
     },
     "execution_count": 10,
     "metadata": {},
     "output_type": "execute_result"
    }
   ],
   "source": [
    "# 查看前五行数据\n",
    "flights_df.head()"
   ]
  },
  {
   "cell_type": "markdown",
   "metadata": {},
   "source": [
    "## 1.查看飞机延误时间最长的前10名"
   ]
  },
  {
   "cell_type": "code",
   "execution_count": 11,
   "metadata": {},
   "outputs": [
    {
     "data": {
      "text/plain": "           flight_date unique_carrier  flight_num origin dest  arr_delay  \\\n11073  11/01/2015 0:00             AA        1595    AUS  DFW     1444.0   \n10214  13/01/2015 0:00             AA        1487    OMA  DFW     1392.0   \n12430  03/01/2015 0:00             AA        1677    MEM  DFW     1384.0   \n8443   04/01/2015 0:00             AA        1279    OMA  DFW     1237.0   \n10328  05/01/2015 0:00             AA        1495    EGE  DFW     1187.0   \n36570  04/01/2015 0:00             DL        1435    MIA  MSP     1174.0   \n36495  04/01/2015 0:00             DL        1367    ROC  ATL     1138.0   \n59072  14/01/2015 0:00             DL        1687    SAN  MSP     1084.0   \n32173  05/01/2015 0:00             AA         970    LAS  LAX     1042.0   \n56488  12/01/2015 0:00             DL        2117    ATL  COS     1016.0   \n\n       cancelled  distance  carrier_delay  weather_delay  late_aircraft_delay  \\\n11073          0       190         1444.0            0.0                  0.0   \n10214          0       583         1392.0            0.0                  0.0   \n12430          0       432         1380.0            0.0                  0.0   \n8443           0       583         1222.0            0.0                 15.0   \n10328          0       721         1019.0            0.0                168.0   \n36570          0      1501         1174.0            0.0                  0.0   \n36495          0       749         1112.0            0.0                  0.0   \n59072          0      1532         1070.0            0.0                  0.0   \n32173          0       236         1033.0            0.0                  9.0   \n56488          0      1184         1016.0            0.0                  0.0   \n\n       nas_delay  security_delay  actual_elapsed_time  \n11073        0.0             0.0                 59.0  \n10214        0.0             0.0                117.0  \n12430        4.0             0.0                104.0  \n8443         0.0             0.0                102.0  \n10328        0.0             0.0                127.0  \n36570        0.0             0.0                231.0  \n36495       26.0             0.0                171.0  \n59072       14.0             0.0                240.0  \n32173        0.0             0.0                 66.0  \n56488        0.0             0.0                193.0  ",
      "text/html": "<div>\n<style scoped>\n    .dataframe tbody tr th:only-of-type {\n        vertical-align: middle;\n    }\n\n    .dataframe tbody tr th {\n        vertical-align: top;\n    }\n\n    .dataframe thead th {\n        text-align: right;\n    }\n</style>\n<table border=\"1\" class=\"dataframe\">\n  <thead>\n    <tr style=\"text-align: right;\">\n      <th></th>\n      <th>flight_date</th>\n      <th>unique_carrier</th>\n      <th>flight_num</th>\n      <th>origin</th>\n      <th>dest</th>\n      <th>arr_delay</th>\n      <th>cancelled</th>\n      <th>distance</th>\n      <th>carrier_delay</th>\n      <th>weather_delay</th>\n      <th>late_aircraft_delay</th>\n      <th>nas_delay</th>\n      <th>security_delay</th>\n      <th>actual_elapsed_time</th>\n    </tr>\n  </thead>\n  <tbody>\n    <tr>\n      <th>11073</th>\n      <td>11/01/2015 0:00</td>\n      <td>AA</td>\n      <td>1595</td>\n      <td>AUS</td>\n      <td>DFW</td>\n      <td>1444.0</td>\n      <td>0</td>\n      <td>190</td>\n      <td>1444.0</td>\n      <td>0.0</td>\n      <td>0.0</td>\n      <td>0.0</td>\n      <td>0.0</td>\n      <td>59.0</td>\n    </tr>\n    <tr>\n      <th>10214</th>\n      <td>13/01/2015 0:00</td>\n      <td>AA</td>\n      <td>1487</td>\n      <td>OMA</td>\n      <td>DFW</td>\n      <td>1392.0</td>\n      <td>0</td>\n      <td>583</td>\n      <td>1392.0</td>\n      <td>0.0</td>\n      <td>0.0</td>\n      <td>0.0</td>\n      <td>0.0</td>\n      <td>117.0</td>\n    </tr>\n    <tr>\n      <th>12430</th>\n      <td>03/01/2015 0:00</td>\n      <td>AA</td>\n      <td>1677</td>\n      <td>MEM</td>\n      <td>DFW</td>\n      <td>1384.0</td>\n      <td>0</td>\n      <td>432</td>\n      <td>1380.0</td>\n      <td>0.0</td>\n      <td>0.0</td>\n      <td>4.0</td>\n      <td>0.0</td>\n      <td>104.0</td>\n    </tr>\n    <tr>\n      <th>8443</th>\n      <td>04/01/2015 0:00</td>\n      <td>AA</td>\n      <td>1279</td>\n      <td>OMA</td>\n      <td>DFW</td>\n      <td>1237.0</td>\n      <td>0</td>\n      <td>583</td>\n      <td>1222.0</td>\n      <td>0.0</td>\n      <td>15.0</td>\n      <td>0.0</td>\n      <td>0.0</td>\n      <td>102.0</td>\n    </tr>\n    <tr>\n      <th>10328</th>\n      <td>05/01/2015 0:00</td>\n      <td>AA</td>\n      <td>1495</td>\n      <td>EGE</td>\n      <td>DFW</td>\n      <td>1187.0</td>\n      <td>0</td>\n      <td>721</td>\n      <td>1019.0</td>\n      <td>0.0</td>\n      <td>168.0</td>\n      <td>0.0</td>\n      <td>0.0</td>\n      <td>127.0</td>\n    </tr>\n    <tr>\n      <th>36570</th>\n      <td>04/01/2015 0:00</td>\n      <td>DL</td>\n      <td>1435</td>\n      <td>MIA</td>\n      <td>MSP</td>\n      <td>1174.0</td>\n      <td>0</td>\n      <td>1501</td>\n      <td>1174.0</td>\n      <td>0.0</td>\n      <td>0.0</td>\n      <td>0.0</td>\n      <td>0.0</td>\n      <td>231.0</td>\n    </tr>\n    <tr>\n      <th>36495</th>\n      <td>04/01/2015 0:00</td>\n      <td>DL</td>\n      <td>1367</td>\n      <td>ROC</td>\n      <td>ATL</td>\n      <td>1138.0</td>\n      <td>0</td>\n      <td>749</td>\n      <td>1112.0</td>\n      <td>0.0</td>\n      <td>0.0</td>\n      <td>26.0</td>\n      <td>0.0</td>\n      <td>171.0</td>\n    </tr>\n    <tr>\n      <th>59072</th>\n      <td>14/01/2015 0:00</td>\n      <td>DL</td>\n      <td>1687</td>\n      <td>SAN</td>\n      <td>MSP</td>\n      <td>1084.0</td>\n      <td>0</td>\n      <td>1532</td>\n      <td>1070.0</td>\n      <td>0.0</td>\n      <td>0.0</td>\n      <td>14.0</td>\n      <td>0.0</td>\n      <td>240.0</td>\n    </tr>\n    <tr>\n      <th>32173</th>\n      <td>05/01/2015 0:00</td>\n      <td>AA</td>\n      <td>970</td>\n      <td>LAS</td>\n      <td>LAX</td>\n      <td>1042.0</td>\n      <td>0</td>\n      <td>236</td>\n      <td>1033.0</td>\n      <td>0.0</td>\n      <td>9.0</td>\n      <td>0.0</td>\n      <td>0.0</td>\n      <td>66.0</td>\n    </tr>\n    <tr>\n      <th>56488</th>\n      <td>12/01/2015 0:00</td>\n      <td>DL</td>\n      <td>2117</td>\n      <td>ATL</td>\n      <td>COS</td>\n      <td>1016.0</td>\n      <td>0</td>\n      <td>1184</td>\n      <td>1016.0</td>\n      <td>0.0</td>\n      <td>0.0</td>\n      <td>0.0</td>\n      <td>0.0</td>\n      <td>193.0</td>\n    </tr>\n  </tbody>\n</table>\n</div>"
     },
     "execution_count": 11,
     "metadata": {},
     "output_type": "execute_result"
    }
   ],
   "source": [
    "flights_df.sort_values('arr_delay', ascending=False)[:10]"
   ]
  },
  {
   "cell_type": "markdown",
   "metadata": {},
   "source": [
    "**可得出初步结论，航空公司AA、DL的延误频次要比其他航空公司高，且AA航空公司比Dl航空公司高。如果有急事出行的话，可以尽量避开这两家航班公司。**"
   ]
  },
  {
   "cell_type": "markdown",
   "metadata": {},
   "source": [
    "## 2.计算延误和没有延误的飞机所占的比例"
   ]
  },
  {
   "cell_type": "code",
   "execution_count": 12,
   "metadata": {},
   "outputs": [
    {
     "data": {
      "text/plain": "       flight_date unique_carrier  flight_num origin dest  arr_delay  \\\n0  02/01/2015 0:00             AA           1    JFK  LAX      -19.0   \n1  03/01/2015 0:00             AA           1    JFK  LAX      -39.0   \n2  04/01/2015 0:00             AA           1    JFK  LAX      -12.0   \n3  05/01/2015 0:00             AA           1    JFK  LAX       -8.0   \n4  06/01/2015 0:00             AA           1    JFK  LAX       25.0   \n\n   cancelled  distance  carrier_delay  weather_delay  late_aircraft_delay  \\\n0          0      2475            NaN            NaN                  NaN   \n1          0      2475            NaN            NaN                  NaN   \n2          0      2475            NaN            NaN                  NaN   \n3          0      2475            NaN            NaN                  NaN   \n4          0      2475            0.0            0.0                  0.0   \n\n   nas_delay  security_delay  actual_elapsed_time  delayed  \n0        NaN             NaN                381.0    False  \n1        NaN             NaN                358.0    False  \n2        NaN             NaN                385.0    False  \n3        NaN             NaN                389.0    False  \n4       25.0             0.0                424.0     True  ",
      "text/html": "<div>\n<style scoped>\n    .dataframe tbody tr th:only-of-type {\n        vertical-align: middle;\n    }\n\n    .dataframe tbody tr th {\n        vertical-align: top;\n    }\n\n    .dataframe thead th {\n        text-align: right;\n    }\n</style>\n<table border=\"1\" class=\"dataframe\">\n  <thead>\n    <tr style=\"text-align: right;\">\n      <th></th>\n      <th>flight_date</th>\n      <th>unique_carrier</th>\n      <th>flight_num</th>\n      <th>origin</th>\n      <th>dest</th>\n      <th>arr_delay</th>\n      <th>cancelled</th>\n      <th>distance</th>\n      <th>carrier_delay</th>\n      <th>weather_delay</th>\n      <th>late_aircraft_delay</th>\n      <th>nas_delay</th>\n      <th>security_delay</th>\n      <th>actual_elapsed_time</th>\n      <th>delayed</th>\n    </tr>\n  </thead>\n  <tbody>\n    <tr>\n      <th>0</th>\n      <td>02/01/2015 0:00</td>\n      <td>AA</td>\n      <td>1</td>\n      <td>JFK</td>\n      <td>LAX</td>\n      <td>-19.0</td>\n      <td>0</td>\n      <td>2475</td>\n      <td>NaN</td>\n      <td>NaN</td>\n      <td>NaN</td>\n      <td>NaN</td>\n      <td>NaN</td>\n      <td>381.0</td>\n      <td>False</td>\n    </tr>\n    <tr>\n      <th>1</th>\n      <td>03/01/2015 0:00</td>\n      <td>AA</td>\n      <td>1</td>\n      <td>JFK</td>\n      <td>LAX</td>\n      <td>-39.0</td>\n      <td>0</td>\n      <td>2475</td>\n      <td>NaN</td>\n      <td>NaN</td>\n      <td>NaN</td>\n      <td>NaN</td>\n      <td>NaN</td>\n      <td>358.0</td>\n      <td>False</td>\n    </tr>\n    <tr>\n      <th>2</th>\n      <td>04/01/2015 0:00</td>\n      <td>AA</td>\n      <td>1</td>\n      <td>JFK</td>\n      <td>LAX</td>\n      <td>-12.0</td>\n      <td>0</td>\n      <td>2475</td>\n      <td>NaN</td>\n      <td>NaN</td>\n      <td>NaN</td>\n      <td>NaN</td>\n      <td>NaN</td>\n      <td>385.0</td>\n      <td>False</td>\n    </tr>\n    <tr>\n      <th>3</th>\n      <td>05/01/2015 0:00</td>\n      <td>AA</td>\n      <td>1</td>\n      <td>JFK</td>\n      <td>LAX</td>\n      <td>-8.0</td>\n      <td>0</td>\n      <td>2475</td>\n      <td>NaN</td>\n      <td>NaN</td>\n      <td>NaN</td>\n      <td>NaN</td>\n      <td>NaN</td>\n      <td>389.0</td>\n      <td>False</td>\n    </tr>\n    <tr>\n      <th>4</th>\n      <td>06/01/2015 0:00</td>\n      <td>AA</td>\n      <td>1</td>\n      <td>JFK</td>\n      <td>LAX</td>\n      <td>25.0</td>\n      <td>0</td>\n      <td>2475</td>\n      <td>0.0</td>\n      <td>0.0</td>\n      <td>0.0</td>\n      <td>25.0</td>\n      <td>0.0</td>\n      <td>424.0</td>\n      <td>True</td>\n    </tr>\n  </tbody>\n</table>\n</div>"
     },
     "execution_count": 12,
     "metadata": {},
     "output_type": "execute_result"
    }
   ],
   "source": [
    "# 添加一列判断航班是否延误\n",
    "flights_df['delayed'] = flights_df['arr_delay'].apply(lambda x: x > 0)\n",
    "# 查看前五行数据\n",
    "flights_df.head()"
   ]
  },
  {
   "cell_type": "code",
   "execution_count": 13,
   "metadata": {},
   "outputs": [
    {
     "data": {
      "text/plain": "False    103037\nTrue      98627\nName: delayed, dtype: int64"
     },
     "execution_count": 13,
     "metadata": {},
     "output_type": "execute_result"
    }
   ],
   "source": [
    "# 查看延误飞机的数量（False：非延误  True：延误）\n",
    "delay_data = flights_df['delayed'].value_counts()\n",
    "delay_data"
   ]
  },
  {
   "cell_type": "code",
   "execution_count": 14,
   "metadata": {},
   "outputs": [
    {
     "data": {
      "text/plain": "0.4890659711202793"
     },
     "execution_count": 14,
     "metadata": {},
     "output_type": "execute_result"
    }
   ],
   "source": [
    "# 计算延误航班所占的比例\n",
    "delay_data[1]/(delay_data[0]+delay_data[1])"
   ]
  },
  {
   "cell_type": "markdown",
   "metadata": {},
   "source": [
    "**由此可得出在美国的所有航班中，有48%的航班都发生过延误。**"
   ]
  },
  {
   "cell_type": "code",
   "execution_count": 15,
   "metadata": {},
   "outputs": [
    {
     "data": {
      "text/plain": "delayed         False  True \nunique_carrier              \nAA               8912   9841\nAS               3527   2104\nB6               4832   4401\nDL              17719   9803\nEV              10596  11371\nF9               1103   1848\nHA               1351   1354\nMQ               4692   8060\nNK               1550   2133\nOO               9977  10804\nUA               7885   8624\nUS               7850   6353\nVX               1254    781\nWN              21789  21150",
      "text/html": "<div>\n<style scoped>\n    .dataframe tbody tr th:only-of-type {\n        vertical-align: middle;\n    }\n\n    .dataframe tbody tr th {\n        vertical-align: top;\n    }\n\n    .dataframe thead th {\n        text-align: right;\n    }\n</style>\n<table border=\"1\" class=\"dataframe\">\n  <thead>\n    <tr style=\"text-align: right;\">\n      <th>delayed</th>\n      <th>False</th>\n      <th>True</th>\n    </tr>\n    <tr>\n      <th>unique_carrier</th>\n      <th></th>\n      <th></th>\n    </tr>\n  </thead>\n  <tbody>\n    <tr>\n      <th>AA</th>\n      <td>8912</td>\n      <td>9841</td>\n    </tr>\n    <tr>\n      <th>AS</th>\n      <td>3527</td>\n      <td>2104</td>\n    </tr>\n    <tr>\n      <th>B6</th>\n      <td>4832</td>\n      <td>4401</td>\n    </tr>\n    <tr>\n      <th>DL</th>\n      <td>17719</td>\n      <td>9803</td>\n    </tr>\n    <tr>\n      <th>EV</th>\n      <td>10596</td>\n      <td>11371</td>\n    </tr>\n    <tr>\n      <th>F9</th>\n      <td>1103</td>\n      <td>1848</td>\n    </tr>\n    <tr>\n      <th>HA</th>\n      <td>1351</td>\n      <td>1354</td>\n    </tr>\n    <tr>\n      <th>MQ</th>\n      <td>4692</td>\n      <td>8060</td>\n    </tr>\n    <tr>\n      <th>NK</th>\n      <td>1550</td>\n      <td>2133</td>\n    </tr>\n    <tr>\n      <th>OO</th>\n      <td>9977</td>\n      <td>10804</td>\n    </tr>\n    <tr>\n      <th>UA</th>\n      <td>7885</td>\n      <td>8624</td>\n    </tr>\n    <tr>\n      <th>US</th>\n      <td>7850</td>\n      <td>6353</td>\n    </tr>\n    <tr>\n      <th>VX</th>\n      <td>1254</td>\n      <td>781</td>\n    </tr>\n    <tr>\n      <th>WN</th>\n      <td>21789</td>\n      <td>21150</td>\n    </tr>\n  </tbody>\n</table>\n</div>"
     },
     "execution_count": 15,
     "metadata": {},
     "output_type": "execute_result"
    }
   ],
   "source": [
    "# 计算每一个航空公司延误的情况\n",
    "delay_group = flights_df.groupby(['unique_carrier', 'delayed'])\n",
    "df_delay = delay_group.size().unstack()\n",
    "df_delay"
   ]
  },
  {
   "cell_type": "markdown",
   "metadata": {},
   "source": [
    "**由上表可以得出，大部分航空公司的准点次数要大于延误次数**"
   ]
  },
  {
   "cell_type": "markdown",
   "metadata": {},
   "source": [
    "### 图形展示"
   ]
  },
  {
   "cell_type": "code",
   "execution_count": 16,
   "metadata": {},
   "outputs": [],
   "source": [
    "import matplotlib.pyplot as plt"
   ]
  },
  {
   "cell_type": "code",
   "execution_count": 17,
   "metadata": {},
   "outputs": [
    {
     "data": {
      "text/plain": "<Figure size 1152x432 with 1 Axes>",
      "image/png": "[encoded data removed]"
     },
     "metadata": {
      "needs_background": "light"
     },
     "output_type": "display_data"
    }
   ],
   "source": [
    "# barh 柱状图\n",
    "# stacked=True 横向展示\n",
    "# figsize=[16, 6] 宽16，高6\n",
    "# colormap='winter' 使用winter色\n",
    "df_delay.plot(kind='barh', stacked=True, figsize=[16, 6], colormap='winter')\n",
    "plt.show()"
   ]
  },
  {
   "cell_type": "markdown",
   "metadata": {},
   "source": [
    "**由图形可以更直观的看出，飞行次数最多的公司是WN。虽然Dl公司的延时时间是相对比较长的，但他的延误次数却相比与其他公司要低。其次AS、VX两家小型航空公司的延误次数也比较低。**"
   ]
  },
  {
   "cell_type": "markdown",
   "metadata": {},
   "source": [
    "#### 4.透视表"
   ]
  },
  {
   "cell_type": "code",
   "execution_count": 18,
   "metadata": {},
   "outputs": [
    {
     "data": {
      "text/plain": "unique_carrier     AA   AS   B6    DL    EV   F9   HA    MQ   NK    OO    UA  \\\nflight_date                                                                    \n02/01/2015 0:00  1545  477  759  2271  1824  254  224  1046  287  1763  1420   \n03/01/2015 0:00  1453  449  711  2031  1744  192  202   937  285  1681  1233   \n04/01/2015 0:00  1534  458  759  2258  1833  249  206  1027  284  1731  1283   \n05/01/2015 0:00  1532  433  754  2212  1811  264  209  1039  288  1737  1432   \n06/01/2015 0:00  1400  415  692  2054  1686  249  202   966  279  1527  1294   \n07/01/2015 0:00  1420  419  694  2107  1705  228  208   998  284  1557  1259   \n08/01/2015 0:00  1447  444  731  2214  1759  224  208  1009  284  1625  1331   \n09/01/2015 0:00  1448  447  730  2204  1767  229  222  1010  289  1631  1331   \n10/01/2015 0:00  1285  412  641  1584  1133  168  201   768  285  1270   908   \n11/01/2015 0:00  1426  432  711  2082  1585  222  206   979  286  1558  1162   \n12/01/2015 0:00  1445  426  718  2280  1754  236  209  1003  281  1628  1337   \n13/01/2015 0:00  1404  407  666  2079  1678  210  202   972  272  1514  1261   \n14/01/2015 0:00  1414  412  667  2146  1688  226  206   998  279  1559  1258   \n\nunique_carrier     US   VX    WN  \nflight_date                       \n02/01/2015 0:00  1177  176  3518  \n03/01/2015 0:00  1028  160  3328  \n04/01/2015 0:00  1158  169  3403  \n05/01/2015 0:00  1157  174  3506  \n06/01/2015 0:00  1003  152  3396  \n07/01/2015 0:00  1143  151  3398  \n08/01/2015 0:00  1171  164  3398  \n09/01/2015 0:00  1169  167  3364  \n10/01/2015 0:00   912  109  2668  \n11/01/2015 0:00  1061  156  2888  \n12/01/2015 0:00  1086  161  3324  \n13/01/2015 0:00   996  145  3374  \n14/01/2015 0:00  1142  151  3374  ",
      "text/html": "<div>\n<style scoped>\n    .dataframe tbody tr th:only-of-type {\n        vertical-align: middle;\n    }\n\n    .dataframe tbody tr th {\n        vertical-align: top;\n    }\n\n    .dataframe thead th {\n        text-align: right;\n    }\n</style>\n<table border=\"1\" class=\"dataframe\">\n  <thead>\n    <tr style=\"text-align: right;\">\n      <th>unique_carrier</th>\n      <th>AA</th>\n      <th>AS</th>\n      <th>B6</th>\n      <th>DL</th>\n      <th>EV</th>\n      <th>F9</th>\n      <th>HA</th>\n      <th>MQ</th>\n      <th>NK</th>\n      <th>OO</th>\n      <th>UA</th>\n      <th>US</th>\n      <th>VX</th>\n      <th>WN</th>\n    </tr>\n    <tr>\n      <th>flight_date</th>\n      <th></th>\n      <th></th>\n      <th></th>\n      <th></th>\n      <th></th>\n      <th></th>\n      <th></th>\n      <th></th>\n      <th></th>\n      <th></th>\n      <th></th>\n      <th></th>\n      <th></th>\n      <th></th>\n    </tr>\n  </thead>\n  <tbody>\n    <tr>\n      <th>02/01/2015 0:00</th>\n      <td>1545</td>\n      <td>477</td>\n      <td>759</td>\n      <td>2271</td>\n      <td>1824</td>\n      <td>254</td>\n      <td>224</td>\n      <td>1046</td>\n      <td>287</td>\n      <td>1763</td>\n      <td>1420</td>\n      <td>1177</td>\n      <td>176</td>\n      <td>3518</td>\n    </tr>\n    <tr>\n      <th>03/01/2015 0:00</th>\n      <td>1453</td>\n      <td>449</td>\n      <td>711</td>\n      <td>2031</td>\n      <td>1744</td>\n      <td>192</td>\n      <td>202</td>\n      <td>937</td>\n      <td>285</td>\n      <td>1681</td>\n      <td>1233</td>\n      <td>1028</td>\n      <td>160</td>\n      <td>3328</td>\n    </tr>\n    <tr>\n      <th>04/01/2015 0:00</th>\n      <td>1534</td>\n      <td>458</td>\n      <td>759</td>\n      <td>2258</td>\n      <td>1833</td>\n      <td>249</td>\n      <td>206</td>\n      <td>1027</td>\n      <td>284</td>\n      <td>1731</td>\n      <td>1283</td>\n      <td>1158</td>\n      <td>169</td>\n      <td>3403</td>\n    </tr>\n    <tr>\n      <th>05/01/2015 0:00</th>\n      <td>1532</td>\n      <td>433</td>\n      <td>754</td>\n      <td>2212</td>\n      <td>1811</td>\n      <td>264</td>\n      <td>209</td>\n      <td>1039</td>\n      <td>288</td>\n      <td>1737</td>\n      <td>1432</td>\n      <td>1157</td>\n      <td>174</td>\n      <td>3506</td>\n    </tr>\n    <tr>\n      <th>06/01/2015 0:00</th>\n      <td>1400</td>\n      <td>415</td>\n      <td>692</td>\n      <td>2054</td>\n      <td>1686</td>\n      <td>249</td>\n      <td>202</td>\n      <td>966</td>\n      <td>279</td>\n      <td>1527</td>\n      <td>1294</td>\n      <td>1003</td>\n      <td>152</td>\n      <td>3396</td>\n    </tr>\n    <tr>\n      <th>07/01/2015 0:00</th>\n      <td>1420</td>\n      <td>419</td>\n      <td>694</td>\n      <td>2107</td>\n      <td>1705</td>\n      <td>228</td>\n      <td>208</td>\n      <td>998</td>\n      <td>284</td>\n      <td>1557</td>\n      <td>1259</td>\n      <td>1143</td>\n      <td>151</td>\n      <td>3398</td>\n    </tr>\n    <tr>\n      <th>08/01/2015 0:00</th>\n      <td>1447</td>\n      <td>444</td>\n      <td>731</td>\n      <td>2214</td>\n      <td>1759</td>\n      <td>224</td>\n      <td>208</td>\n      <td>1009</td>\n      <td>284</td>\n      <td>1625</td>\n      <td>1331</td>\n      <td>1171</td>\n      <td>164</td>\n      <td>3398</td>\n    </tr>\n    <tr>\n      <th>09/01/2015 0:00</th>\n      <td>1448</td>\n      <td>447</td>\n      <td>730</td>\n      <td>2204</td>\n      <td>1767</td>\n      <td>229</td>\n      <td>222</td>\n      <td>1010</td>\n      <td>289</td>\n      <td>1631</td>\n      <td>1331</td>\n      <td>1169</td>\n      <td>167</td>\n      <td>3364</td>\n    </tr>\n    <tr>\n      <th>10/01/2015 0:00</th>\n      <td>1285</td>\n      <td>412</td>\n      <td>641</td>\n      <td>1584</td>\n      <td>1133</td>\n      <td>168</td>\n      <td>201</td>\n      <td>768</td>\n      <td>285</td>\n      <td>1270</td>\n      <td>908</td>\n      <td>912</td>\n      <td>109</td>\n      <td>2668</td>\n    </tr>\n    <tr>\n      <th>11/01/2015 0:00</th>\n      <td>1426</td>\n      <td>432</td>\n      <td>711</td>\n      <td>2082</td>\n      <td>1585</td>\n      <td>222</td>\n      <td>206</td>\n      <td>979</td>\n      <td>286</td>\n      <td>1558</td>\n      <td>1162</td>\n      <td>1061</td>\n      <td>156</td>\n      <td>2888</td>\n    </tr>\n    <tr>\n      <th>12/01/2015 0:00</th>\n      <td>1445</td>\n      <td>426</td>\n      <td>718</td>\n      <td>2280</td>\n      <td>1754</td>\n      <td>236</td>\n      <td>209</td>\n      <td>1003</td>\n      <td>281</td>\n      <td>1628</td>\n      <td>1337</td>\n      <td>1086</td>\n      <td>161</td>\n      <td>3324</td>\n    </tr>\n    <tr>\n      <th>13/01/2015 0:00</th>\n      <td>1404</td>\n      <td>407</td>\n      <td>666</td>\n      <td>2079</td>\n      <td>1678</td>\n      <td>210</td>\n      <td>202</td>\n      <td>972</td>\n      <td>272</td>\n      <td>1514</td>\n      <td>1261</td>\n      <td>996</td>\n      <td>145</td>\n      <td>3374</td>\n    </tr>\n    <tr>\n      <th>14/01/2015 0:00</th>\n      <td>1414</td>\n      <td>412</td>\n      <td>667</td>\n      <td>2146</td>\n      <td>1688</td>\n      <td>226</td>\n      <td>206</td>\n      <td>998</td>\n      <td>279</td>\n      <td>1559</td>\n      <td>1258</td>\n      <td>1142</td>\n      <td>151</td>\n      <td>3374</td>\n    </tr>\n  </tbody>\n</table>\n</div>"
     },
     "execution_count": 18,
     "metadata": {},
     "output_type": "execute_result"
    }
   ],
   "source": [
    "# index 索引\n",
    "# columns 列名\n",
    "# values 要显示的值\n",
    "# aggfunc 聚合函数\n",
    "flight_by_carrier = flights_df.pivot_table(index='flight_date', columns='unique_carrier', values='flight_num', aggfunc='count')\n",
    "flight_by_carrier"
   ]
  },
  {
   "cell_type": "markdown",
   "metadata": {},
   "source": [
    "**由透视表我们可以看出，每天航班次数最多的公司是WN，其次是DL和EV。由此可猜测他们几家应该是大型航空公司。**"
   ]
  },
  {
   "cell_type": "code",
   "execution_count": 18,
   "metadata": {},
   "outputs": [],
   "source": []
  }
 ],
 "metadata": {
  "kernelspec": {
   "display_name": "Python 3",
   "language": "python",
   "name": "python3"
  },
  "language_info": {
   "codemirror_mode": {
    "name": "ipython",
    "version": 3
   },
   "file_extension": ".py",
   "mimetype": "text/x-python",
   "name": "python",
   "nbconvert_exporter": "python",
   "pygments_lexer": "ipython3",
   "version": "3.7.4"
  }
 },
 "nbformat": 4,
 "nbformat_minor": 2
}
