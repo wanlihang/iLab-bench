{
 "cells": [
  {
   "cell_type": "markdown",
   "metadata": {},
   "source": [
    "### 案例场景：每个销售型公司都有一定的促销费用，促销费用可以带来销售量的增加，当给出一定的销售费用，预计可以带来多大的商品销售量？"
   ]
  },
  {
   "cell_type": "code",
   "execution_count": 1,
   "metadata": {},
   "outputs": [],
   "source": [
    "import re\n",
    "import numpy\n",
    "from sklearn import linear_model\n",
    "from matplotlib import pyplot as plt"
   ]
  },
  {
   "cell_type": "markdown",
   "metadata": {},
   "source": [
    "#### 1.导入数据"
   ]
  },
  {
   "cell_type": "code",
   "execution_count": 2,
   "metadata": {},
   "outputs": [],
   "source": [
    "fn = open('./data/data.txt', 'r')\n",
    "all_data = fn.readlines()\n",
    "fn.close()"
   ]
  },
  {
   "cell_type": "code",
   "execution_count": 3,
   "metadata": {},
   "outputs": [
    {
     "data": {
      "text/plain": "['28192.0\\t68980.0\\n',\n '39275.0\\t78875.0\\n',\n '34512.0\\t81400.0\\n',\n '24430.0\\t80624.0\\n',\n '23811.0\\t65562.0\\n',\n '34856.0\\t94603.0\\n',\n '23069.0\\t49705.0\\n',\n '34727.0\\t86060.0\\n',\n '32902.0\\t93485.0\\n',\n '28591.0\\t66033.0\\n',\n '26938.0\\t65446.0\\n',\n '32227.0\\t84685.0\\n',\n '18433.0\\t43105.0\\n',\n '27842.0\\t62648.0\\n',\n '36596.0\\t92935.0\\n',\n '40951.0\\t108329.0\\n',\n '29682.0\\t78204.0\\n',\n '45987.0\\t108277.0\\n',\n '43236.0\\t120000.0\\n',\n '25495.0\\t71841.0\\n',\n '39292.0\\t104747.0\\n',\n '46899.0\\t109272.0\\n',\n '27541.0\\t87669.0\\n',\n '33771.0\\t85308.0\\n',\n '37487.0\\t103226.0\\n',\n '37623.0\\t111957.0\\n',\n '47354.0\\t116192.0\\n',\n '33942.0\\t83547.0\\n',\n '28289.0\\t88000.0\\n',\n '43888.0\\t108558.0\\n',\n '23748.0\\t56323.0\\n',\n '26374.0\\t71453.0\\n',\n '22478.0\\t55535.0\\n',\n '34311.0\\t97956.0\\n',\n '31262.0\\t60472.0\\n',\n '35013.0\\t96611.0\\n',\n '32369.0\\t94611.0\\n',\n '27831.0\\t75674.0\\n',\n '31605.0\\t65021.0\\n',\n '20784.0\\t63729.0\\n',\n '39920.0\\t88493.0\\n',\n '34493.0\\t86494.0\\n',\n '17023.0\\t51546.0\\n',\n '49761.0\\t106787.0\\n',\n '32646.0\\t87756.0\\n',\n '29473.0\\t58705.0\\n',\n '41379.0\\t111732.0\\n',\n '24091.0\\t65477.0\\n',\n '45806.0\\t107412.0\\n',\n '34580.0\\t71388.0\\n',\n '23649.0\\t74983.0\\n',\n '19397.0\\t44738.0\\n',\n '35037.0\\t70993.0\\n',\n '38646.0\\t81995.0\\n',\n '40625.0\\t95467.0\\n',\n '34509.0\\t88127.0\\n',\n '34384.0\\t72019.0\\n',\n '16857.0\\t30000.0\\n',\n '43361.0\\t107875.0\\n',\n '29622.0\\t78398.0\\n',\n '23952.0\\t65134.0\\n',\n '33683.0\\t78992.0\\n',\n '41147.0\\t92855.0\\n',\n '14746.0\\t41568.0\\n',\n '10000.0\\t30338.0\\n',\n '19112.0\\t54615.0\\n',\n '30941.0\\t65444.0\\n',\n '32460.0\\t65315.0\\n',\n '41314.0\\t94341.0\\n',\n '46664.0\\t118369.0\\n',\n '50000.0\\t117759.0\\n',\n '25019.0\\t70125.0\\n',\n '31726.0\\t64898.0\\n',\n '43567.0\\t96624.0\\n',\n '25597.0\\t69282.0\\n',\n '17654.0\\t44556.0\\n',\n '32244.0\\t90651.0\\n',\n '39055.0\\t86378.0\\n',\n '43518.0\\t89734.0\\n',\n '31640.0\\t87435.0\\n',\n '38344.0\\t95904.0\\n',\n '37035.0\\t88783.0\\n',\n '29919.0\\t74789.0\\n',\n '22294.0\\t61178.0\\n',\n '30318.0\\t82539.0\\n',\n '28667.0\\t62990.0\\n',\n '27962.0\\t73219.0\\n',\n '37222.0\\t95300.0\\n',\n '32184.0\\t92325.0\\n',\n '26948.0\\t80603.0\\n',\n '20933.0\\t63340.0\\n',\n '29410.0\\t80714.0\\n',\n '25913.0\\t60376.0\\n',\n '32471.0\\t78755.0\\n',\n '31554.0\\t71993.0\\n',\n '21511.0\\t59960.0\\n',\n '28166.0\\t85622.0\\n',\n '34130.0\\t82463.0\\n',\n '17789.0\\t64759.0\\n',\n '21382.0\\t54315.0\\n']"
     },
     "execution_count": 3,
     "metadata": {},
     "output_type": "execute_result"
    }
   ],
   "source": [
    "all_data"
   ]
  },
  {
   "cell_type": "markdown",
   "metadata": {},
   "source": [
    "#### 2.数据预处理"
   ]
  },
  {
   "cell_type": "code",
   "execution_count": 4,
   "metadata": {},
   "outputs": [],
   "source": [
    "x = []\n",
    "y = []\n",
    "for single_data in all_data:\n",
    "    # 将x,y数据分割成列表形式\n",
    "    tmp_data = re.split('\\t|\\n', single_data)\n",
    "    x.append(float(tmp_data[0]))\n",
    "    y.append(float(tmp_data[1]))\n",
    "# 将列类型的数据转换成数组类型的数据\n",
    "x = numpy.array(x).reshape([100, 1])\n",
    "y = numpy.array(y).reshape([100, 1])"
   ]
  },
  {
   "cell_type": "code",
   "execution_count": 5,
   "metadata": {},
   "outputs": [
    {
     "data": {
      "text/plain": "array([[ 68980.],\n       [ 78875.],\n       [ 81400.],\n       [ 80624.],\n       [ 65562.],\n       [ 94603.],\n       [ 49705.],\n       [ 86060.],\n       [ 93485.],\n       [ 66033.],\n       [ 65446.],\n       [ 84685.],\n       [ 43105.],\n       [ 62648.],\n       [ 92935.],\n       [108329.],\n       [ 78204.],\n       [108277.],\n       [120000.],\n       [ 71841.],\n       [104747.],\n       [109272.],\n       [ 87669.],\n       [ 85308.],\n       [103226.],\n       [111957.],\n       [116192.],\n       [ 83547.],\n       [ 88000.],\n       [108558.],\n       [ 56323.],\n       [ 71453.],\n       [ 55535.],\n       [ 97956.],\n       [ 60472.],\n       [ 96611.],\n       [ 94611.],\n       [ 75674.],\n       [ 65021.],\n       [ 63729.],\n       [ 88493.],\n       [ 86494.],\n       [ 51546.],\n       [106787.],\n       [ 87756.],\n       [ 58705.],\n       [111732.],\n       [ 65477.],\n       [107412.],\n       [ 71388.],\n       [ 74983.],\n       [ 44738.],\n       [ 70993.],\n       [ 81995.],\n       [ 95467.],\n       [ 88127.],\n       [ 72019.],\n       [ 30000.],\n       [107875.],\n       [ 78398.],\n       [ 65134.],\n       [ 78992.],\n       [ 92855.],\n       [ 41568.],\n       [ 30338.],\n       [ 54615.],\n       [ 65444.],\n       [ 65315.],\n       [ 94341.],\n       [118369.],\n       [117759.],\n       [ 70125.],\n       [ 64898.],\n       [ 96624.],\n       [ 69282.],\n       [ 44556.],\n       [ 90651.],\n       [ 86378.],\n       [ 89734.],\n       [ 87435.],\n       [ 95904.],\n       [ 88783.],\n       [ 74789.],\n       [ 61178.],\n       [ 82539.],\n       [ 62990.],\n       [ 73219.],\n       [ 95300.],\n       [ 92325.],\n       [ 80603.],\n       [ 63340.],\n       [ 80714.],\n       [ 60376.],\n       [ 78755.],\n       [ 71993.],\n       [ 59960.],\n       [ 85622.],\n       [ 82463.],\n       [ 64759.],\n       [ 54315.]])"
     },
     "execution_count": 5,
     "metadata": {},
     "output_type": "execute_result"
    }
   ],
   "source": [
    "# x\n",
    "y"
   ]
  },
  {
   "cell_type": "markdown",
   "metadata": {},
   "source": [
    "#### 3.数据分析"
   ]
  },
  {
   "cell_type": "markdown",
   "metadata": {},
   "source": [
    "- 通过散点图来选择需要使用的模型"
   ]
  },
  {
   "cell_type": "code",
   "execution_count": 6,
   "metadata": {},
   "outputs": [
    {
     "data": {
      "text/plain": "<Figure size 432x288 with 1 Axes>",
      "image/png": "[encoded data removed]"
     },
     "metadata": {
      "needs_background": "light"
     },
     "output_type": "display_data"
    }
   ],
   "source": [
    "plt.scatter(x, y)\n",
    "plt.show()"
   ]
  },
  {
   "cell_type": "markdown",
   "metadata": {},
   "source": [
    "_通过散点图发现x,y呈明显的线性关系。初步判断可以选择线性回归进行模型拟合_"
   ]
  },
  {
   "cell_type": "markdown",
   "metadata": {},
   "source": [
    "#### 4.数据建模"
   ]
  },
  {
   "cell_type": "markdown",
   "metadata": {},
   "source": [
    "- 使用sklearn中的线性回归模型实现"
   ]
  },
  {
   "cell_type": "code",
   "execution_count": 7,
   "metadata": {},
   "outputs": [
    {
     "data": {
      "text/plain": "LinearRegression()"
     },
     "execution_count": 7,
     "metadata": {},
     "output_type": "execute_result"
    }
   ],
   "source": [
    "# 创建模型对象\n",
    "model = linear_model.LinearRegression()\n",
    "# 将x,y分别作为自变量和因变量输入模型进行训练\n",
    "model.fit(x, y)"
   ]
  },
  {
   "cell_type": "markdown",
   "metadata": {},
   "source": [
    "#### 5.模型评估"
   ]
  },
  {
   "cell_type": "markdown",
   "metadata": {},
   "source": [
    "- 模型拟合的校验和评估"
   ]
  },
  {
   "cell_type": "code",
   "execution_count": 8,
   "metadata": {},
   "outputs": [],
   "source": [
    "# 获取模型的自变量系数\n",
    "model_coef = model.coef_\n",
    "# 获取模型的截距\n",
    "model_intercept = model.intercept_\n",
    "# 获取模型的决定系数R方\n",
    "r2 = model.score(x, y)"
   ]
  },
  {
   "cell_type": "markdown",
   "metadata": {},
   "source": [
    "#### 6.销售预测"
   ]
  },
  {
   "cell_type": "markdown",
   "metadata": {},
   "source": [
    "- 给出促销费用，预测销售量"
   ]
  },
  {
   "cell_type": "code",
   "execution_count": 9,
   "metadata": {},
   "outputs": [],
   "source": [
    "# 促销费用\n",
    "promotion_cost = 100000\n",
    "promotion_cost = numpy.array(promotion_cost)\n",
    "pre_y = model.predict(promotion_cost.reshape(-1, 1))"
   ]
  },
  {
   "cell_type": "code",
   "execution_count": 10,
   "metadata": {},
   "outputs": [
    {
     "data": {
      "text/plain": "222639.02972069927"
     },
     "execution_count": 10,
     "metadata": {},
     "output_type": "execute_result"
    }
   ],
   "source": [
    "pre_y[0][0]"
   ]
  },
  {
   "cell_type": "markdown",
   "metadata": {},
   "source": [
    "_由预测值可以得出，假如促销费用是10万，那么就可以有22万的销售量_"
   ]
  },
  {
   "cell_type": "code",
   "execution_count": 10,
   "metadata": {},
   "outputs": [],
   "source": []
  }
 ],
 "metadata": {
  "kernelspec": {
   "display_name": "Python 3",
   "language": "python",
   "name": "python3"
  },
  "language_info": {
   "codemirror_mode": {
    "name": "ipython",
    "version": 3
   },
   "file_extension": ".py",
   "mimetype": "text/x-python",
   "name": "python",
   "nbconvert_exporter": "python",
   "pygments_lexer": "ipython3",
   "version": "3.7.4"
  }
 },
 "nbformat": 4,
 "nbformat_minor": 2
}
